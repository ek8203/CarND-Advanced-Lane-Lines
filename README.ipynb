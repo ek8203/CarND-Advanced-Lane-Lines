{
 "cells": [
  {
   "cell_type": "markdown",
   "metadata": {},
   "source": [
    "### Sefl-Driving Car Nanodegree Program. Term 1\n",
    "<img style=\"float: left;\" src=\"https://s3.amazonaws.com/udacity-sdc/github/shield-carnd.svg\">"
   ]
  },
  {
   "cell_type": "markdown",
   "metadata": {},
   "source": [
    "## Project 4: Advanced Lane Finding"
   ]
  },
  {
   "cell_type": "markdown",
   "metadata": {},
   "source": [
    "### Overview\n",
    "---\n",
    "The goal of this project is to create a software pipeline to identify the lane boundaries in a video from a front-facing camera on a car.\n",
    "\n",
    "The project includes following procedures:\n",
    "* Compute the camera calibration matrix and distortion coefficients given a set of chessboard images.\n",
    "* Apply a distortion correction to raw images.\n",
    "* Use color transforms, gradients, etc., to create a thresholded binary image.\n",
    "* Apply a perspective transform to rectify binary image (\"birds-eye view\").\n",
    "* Detect lane pixels and fit to find the lane boundary.\n",
    "* Determine the curvature of the lane and vehicle position with respect to center.\n",
    "* Warp the detected lane boundaries back onto the original image.\n",
    "* Output visual display of the lane boundaries and numerical estimation of lane curvature and vehicle position.\n",
    "\n",
    "A detail witeup of the projects can be found in [writeup_report.md](writeup_report.md) document."
   ]
  },
  {
   "cell_type": "markdown",
   "metadata": {},
   "source": [
    "### Project directory content:\n",
    "\n",
    "* [README.md](README.md) - This file.\n",
    "* [advanced_lane_finding.ipynb](advanced_lane_finding.ipynb) -  IPython notebook with the actual project code.\n",
    "* [writeup_report.md](writeup_report.md) - The project writeup - a markdown file that includes the [rubric](https://review.udacity.com/#!/rubrics/571/view) points as well as description of how each point was addressed in the project.\n",
    "* [project_video_output.mp4](project_video_output.mp4) - The output video of the lane boundaries and numerical estimation of lane curvature and vehicle position.\n",
    "* `camera_cal/` - A folder with the input and output images for camera calibration\n",
    "* `output_images/` - A folder with examples of the output from each stage of the processing pipeline "
   ]
  },
  {
   "cell_type": "markdown",
   "metadata": {},
   "source": [
    "### Project Environment\n",
    "\n",
    "The project environment was created with [CarND Term1 Starter Kit](https://github.com/udacity/CarND-Term1-Starter-Kit)."
   ]
  }
 ],
 "metadata": {
  "kernelspec": {
   "display_name": "Python 3",
   "language": "python",
   "name": "python3"
  },
  "language_info": {
   "codemirror_mode": {
    "name": "ipython",
    "version": 3
   },
   "file_extension": ".py",
   "mimetype": "text/x-python",
   "name": "python",
   "nbconvert_exporter": "python",
   "pygments_lexer": "ipython3",
   "version": "3.5.2"
  },
  "widgets": {
   "state": {},
   "version": "1.1.2"
  }
 },
 "nbformat": 4,
 "nbformat_minor": 2
}
